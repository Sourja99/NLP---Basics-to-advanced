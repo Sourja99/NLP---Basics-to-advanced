{
  "nbformat": 4,
  "nbformat_minor": 0,
  "metadata": {
    "colab": {
      "provenance": []
    },
    "kernelspec": {
      "name": "python3",
      "display_name": "Python 3"
    },
    "language_info": {
      "name": "python"
    }
  },
  "cells": [
    {
      "cell_type": "markdown",
      "source": [
        "# Introduction to NLP\n",
        "\n",
        "\n",
        "1.   Tokenizing\n",
        "2.   Stop Words\n",
        "3.   Stemming\n",
        "4.   POS\n",
        "5.   Chunking\n",
        "6.   Chinking\n",
        "\n",
        "\n"
      ],
      "metadata": {
        "id": "AfDrJIFqCmAR"
      }
    },
    {
      "cell_type": "markdown",
      "source": [
        "In today's technologically advanced era I know that everyone must have come accross this word \"Machine Learning & AI\", Right ✋? And many interested would have some ideas as well. In this practical Handbook we will guide you through out the process of NLP."
      ],
      "metadata": {
        "id": "t8iigt-nDJgK"
      }
    },
    {
      "cell_type": "markdown",
      "source": [
        "# NLTK ?"
      ],
      "metadata": {
        "id": "AS7pd313DCBG"
      }
    },
    {
      "cell_type": "markdown",
      "source": [
        "**NLTK (Natural Language Toolkit)** in a Python is a collection of libraries and modules which helps us in the entire process of Natural Language Processing"
      ],
      "metadata": {
        "id": "5rUwZQB2Tfkk"
      }
    },
    {
      "cell_type": "markdown",
      "source": [
        "Getting Started with NLTK - Tokenizing Words and Sentences\n"
      ],
      "metadata": {
        "id": "EFqypwvzhbAS"
      }
    },
    {
      "cell_type": "code",
      "source": [
        "from nltk.tokenize import word_tokenize\n",
        "from nltk.corpus import stopwords \n",
        "import nltk\n",
        "nltk.download('punkt')\n",
        "nltk.download('stopwords')"
      ],
      "metadata": {
        "colab": {
          "base_uri": "https://localhost:8080/"
        },
        "id": "twrLBXYl-JP5",
        "outputId": "336d42c6-6720-4052-bcfa-299bc24a6e6a"
      },
      "execution_count": null,
      "outputs": [
        {
          "output_type": "stream",
          "name": "stderr",
          "text": [
            "[nltk_data] Downloading package punkt to /root/nltk_data...\n",
            "[nltk_data]   Package punkt is already up-to-date!\n",
            "[nltk_data] Downloading package stopwords to /root/nltk_data...\n",
            "[nltk_data]   Package stopwords is already up-to-date!\n"
          ]
        },
        {
          "output_type": "execute_result",
          "data": {
            "text/plain": [
              "True"
            ]
          },
          "metadata": {},
          "execution_count": 86
        }
      ]
    },
    {
      "cell_type": "code",
      "execution_count": null,
      "metadata": {
        "id": "eeVnVJr687zl"
      },
      "outputs": [],
      "source": [
        "my_text = \"'I am a Third Year Engineering Student from Vishwakarma Institute of Technology, Pune. I was born in Kolkata, India. I am a huge fan of Machine Learning and Artificial Intelligence. I have been working towards it from my First Year in College. I have completed two internships and am currently working as an Intern in Suvidha Foundations. I want to improve myself as a MLOPs and a Data Scientists. I know its quite hard, but I am confident that I will surely succeed'\""
      ]
    },
    {
      "cell_type": "code",
      "execution_count": null,
      "metadata": {
        "colab": {
          "base_uri": "https://localhost:8080/",
          "height": 87
        },
        "id": "Xbn9GL7a87zn",
        "outputId": "6cd44933-5d71-4c23-d951-53fb4e15bdb6"
      },
      "outputs": [
        {
          "output_type": "execute_result",
          "data": {
            "text/plain": [
              "\"'I am a Third Year Engineering Student from Vishwakarma Institute of Technology, Pune. I was born in Kolkata, India. I am a huge fan of Machine Learning and Artificial Intelligence. I have been working towards it from my First Year in College. I have completed two internships and am currently working as an Intern in Suvidha Foundations. I want to improve myself as a MLOPs and a Data Scientists. I know its quite hard, but I am confident that I will surely succeed'\""
            ],
            "application/vnd.google.colaboratory.intrinsic+json": {
              "type": "string"
            }
          },
          "metadata": {},
          "execution_count": 88
        }
      ],
      "source": [
        "my_text"
      ]
    },
    {
      "cell_type": "markdown",
      "metadata": {
        "id": "BWf0nOqm87zo"
      },
      "source": [
        "*It's crucial to notice here that the computer interprets text bodies as a single string object in this instance. Therefore, we must figure out a way to divide this single body of text so that the computer may treat each word as a separate string object. This introduces the idea of word tokenization and sentence tokenization, which are both processes for dividing a single string object into tokens that each represent words or characters.*"
      ]
    },
    {
      "cell_type": "markdown",
      "metadata": {
        "id": "MFyaU5yg87zp"
      },
      "source": [
        "#### Natural Language Toolkit (NLTK) module .\n"
      ]
    },
    {
      "cell_type": "markdown",
      "metadata": {
        "id": "0RezpFl187zq"
      },
      "source": [
        "\n",
        "#NLTK Tokenizer"
      ]
    },
    {
      "cell_type": "code",
      "execution_count": null,
      "metadata": {
        "id": "xfdWHCSK87zr"
      },
      "outputs": [],
      "source": [
        "from nltk.tokenize import word_tokenize, sent_tokenize"
      ]
    },
    {
      "cell_type": "markdown",
      "metadata": {
        "id": "XXErLwf_87zr"
      },
      "source": [
        "#### Sentence Tokenize()"
      ]
    },
    {
      "cell_type": "code",
      "execution_count": null,
      "metadata": {
        "id": "RPRpkpP087zr"
      },
      "outputs": [],
      "source": [
        "sample_sentence_tokens = sent_tokenize(my_text)"
      ]
    },
    {
      "cell_type": "code",
      "execution_count": null,
      "metadata": {
        "colab": {
          "base_uri": "https://localhost:8080/"
        },
        "id": "MKPzbqnJ87zu",
        "outputId": "07cae595-a43f-48e0-e8de-cd639cc51579"
      },
      "outputs": [
        {
          "output_type": "stream",
          "name": "stdout",
          "text": [
            "[\"'I am a Third Year Engineering Student from Vishwakarma Institute of Technology, Pune.\", 'I was born in Kolkata, India.', 'I am a huge fan of Machine Learning and Artificial Intelligence.', 'I have been working towards it from my First Year in College.', 'I have completed two internships and am currently working as an Intern in Suvidha Foundations.', 'I want to improve myself as a MLOPs and a Data Scientists.', \"I know its quite hard, but I am confident that I will surely succeed'\"]\n"
          ]
        }
      ],
      "source": [
        "print(sample_sentence_tokens)"
      ]
    },
    {
      "cell_type": "markdown",
      "metadata": {
        "id": "EZoH25Zu87zu"
      },
      "source": [
        "#### Word Tokenize() "
      ]
    },
    {
      "cell_type": "code",
      "execution_count": null,
      "metadata": {
        "id": "tIoEQ4R487zv"
      },
      "outputs": [],
      "source": [
        "sample_word_tokens = word_tokenize(my_text)"
      ]
    },
    {
      "cell_type": "code",
      "execution_count": null,
      "metadata": {
        "colab": {
          "base_uri": "https://localhost:8080/"
        },
        "id": "CIrsVFRg87zv",
        "outputId": "67e17b45-df21-43dc-ff32-5b4be7130e87"
      },
      "outputs": [
        {
          "output_type": "stream",
          "name": "stdout",
          "text": [
            "[\"'\", 'I', 'am', 'a', 'Third', 'Year', 'Engineering', 'Student', 'from', 'Vishwakarma', 'Institute', 'of', 'Technology', ',', 'Pune', '.', 'I', 'was', 'born', 'in', 'Kolkata', ',', 'India', '.', 'I', 'am', 'a', 'huge', 'fan', 'of', 'Machine', 'Learning', 'and', 'Artificial', 'Intelligence', '.', 'I', 'have', 'been', 'working', 'towards', 'it', 'from', 'my', 'First', 'Year', 'in', 'College', '.', 'I', 'have', 'completed', 'two', 'internships', 'and', 'am', 'currently', 'working', 'as', 'an', 'Intern', 'in', 'Suvidha', 'Foundations', '.', 'I', 'want', 'to', 'improve', 'myself', 'as', 'a', 'MLOPs', 'and', 'a', 'Data', 'Scientists', '.', 'I', 'know', 'its', 'quite', 'hard', ',', 'but', 'I', 'am', 'confident', 'that', 'I', 'will', 'surely', 'succeed', \"'\"]\n"
          ]
        }
      ],
      "source": [
        "print(sample_word_tokens)"
      ]
    },
    {
      "cell_type": "markdown",
      "metadata": {
        "id": "_zk6XpP687zv"
      },
      "source": [
        "#### What we have - Results Tokens 🔥"
      ]
    },
    {
      "cell_type": "markdown",
      "metadata": {
        "id": "N0tgG1rI87zw"
      },
      "source": [
        "####We can now preprocess individual tokens that we have! From this point on, we can remove some of the unnecessary text from which we would not want to extract features.\n",
        "#### We split the text sentence/paragraph into a list of words. This completes the Segmentation and Tokenization Part "
      ]
    },
    {
      "cell_type": "markdown",
      "metadata": {
        "id": "we5K1jdq87zw"
      },
      "source": [
        "\n",
        "\n",
        "#Comming to our next step in NLP -Stop Words"
      ]
    },
    {
      "cell_type": "markdown",
      "source": [
        "Loading stopwords Corpus"
      ],
      "metadata": {
        "id": "4GTxSGOXjC5G"
      }
    },
    {
      "cell_type": "code",
      "execution_count": null,
      "metadata": {
        "id": "Oqisuk1887zx"
      },
      "outputs": [],
      "source": [
        "from nltk.corpus import stopwords"
      ]
    },
    {
      "cell_type": "markdown",
      "source": [
        "Check the list of stop words"
      ],
      "metadata": {
        "id": "--AGWwJ7i-_B"
      }
    },
    {
      "cell_type": "code",
      "execution_count": null,
      "metadata": {
        "colab": {
          "base_uri": "https://localhost:8080/"
        },
        "id": "kInB4ECC87zx",
        "outputId": "49dfa601-4aa8-42f9-c778-f6f980e8d805"
      },
      "outputs": [
        {
          "output_type": "stream",
          "name": "stdout",
          "text": [
            "['i', 'me', 'my', 'myself', 'we', 'our', 'ours', 'ourselves', 'you', \"you're\", \"you've\", \"you'll\", \"you'd\", 'your', 'yours', 'yourself', 'yourselves', 'he', 'him', 'his', 'himself', 'she', \"she's\", 'her', 'hers', 'herself', 'it', \"it's\", 'its', 'itself', 'they', 'them', 'their', 'theirs', 'themselves', 'what', 'which', 'who', 'whom', 'this', 'that', \"that'll\", 'these', 'those', 'am', 'is', 'are', 'was', 'were', 'be', 'been', 'being', 'have', 'has', 'had', 'having', 'do', 'does', 'did', 'doing', 'a', 'an', 'the', 'and', 'but', 'if', 'or', 'because', 'as', 'until', 'while', 'of', 'at', 'by', 'for', 'with', 'about', 'against', 'between', 'into', 'through', 'during', 'before', 'after', 'above', 'below', 'to', 'from', 'up', 'down', 'in', 'out', 'on', 'off', 'over', 'under', 'again', 'further', 'then', 'once', 'here', 'there', 'when', 'where', 'why', 'how', 'all', 'any', 'both', 'each', 'few', 'more', 'most', 'other', 'some', 'such', 'no', 'nor', 'not', 'only', 'own', 'same', 'so', 'than', 'too', 'very', 's', 't', 'can', 'will', 'just', 'don', \"don't\", 'should', \"should've\", 'now', 'd', 'll', 'm', 'o', 're', 've', 'y', 'ain', 'aren', \"aren't\", 'couldn', \"couldn't\", 'didn', \"didn't\", 'doesn', \"doesn't\", 'hadn', \"hadn't\", 'hasn', \"hasn't\", 'haven', \"haven't\", 'isn', \"isn't\", 'ma', 'mightn', \"mightn't\", 'mustn', \"mustn't\", 'needn', \"needn't\", 'shan', \"shan't\", 'shouldn', \"shouldn't\", 'wasn', \"wasn't\", 'weren', \"weren't\", 'won', \"won't\", 'wouldn', \"wouldn't\"]\n"
          ]
        }
      ],
      "source": [
        "print (stopwords.words('english'))"
      ]
    },
    {
      "cell_type": "code",
      "execution_count": null,
      "metadata": {
        "colab": {
          "base_uri": "https://localhost:8080/"
        },
        "id": "gPQHbi8x87zy",
        "outputId": "235bead7-1c9a-4dc2-8640-bb707b43c32a"
      },
      "outputs": [
        {
          "output_type": "stream",
          "name": "stdout",
          "text": [
            "['arabic', 'azerbaijani', 'basque', 'bengali', 'catalan', 'chinese', 'danish', 'dutch', 'english', 'finnish', 'french', 'german', 'greek', 'hebrew', 'hinglish', 'hungarian', 'indonesian', 'italian', 'kazakh', 'nepali', 'norwegian', 'portuguese', 'romanian', 'russian', 'slovene', 'spanish', 'swedish', 'tajik', 'turkish']\n"
          ]
        }
      ],
      "source": [
        "print (stopwords.fileids())"
      ]
    },
    {
      "cell_type": "code",
      "execution_count": null,
      "metadata": {
        "colab": {
          "base_uri": "https://localhost:8080/"
        },
        "id": "InM9nrU-87zy",
        "outputId": "e169c557-3267-47db-cfdc-d09d900d12ab"
      },
      "outputs": [
        {
          "output_type": "stream",
          "name": "stdout",
          "text": [
            "['aber', 'alle', 'allem', 'allen', 'aller', 'alles', 'als', 'also', 'am', 'an', 'ander', 'andere', 'anderem', 'anderen', 'anderer', 'anderes', 'anderm', 'andern', 'anderr', 'anders', 'auch', 'auf', 'aus', 'bei', 'bin', 'bis', 'bist', 'da', 'damit', 'dann', 'der', 'den', 'des', 'dem', 'die', 'das', 'dass', 'daß', 'derselbe', 'derselben', 'denselben', 'desselben', 'demselben', 'dieselbe', 'dieselben', 'dasselbe', 'dazu', 'dein', 'deine', 'deinem', 'deinen', 'deiner', 'deines', 'denn', 'derer', 'dessen', 'dich', 'dir', 'du', 'dies', 'diese', 'diesem', 'diesen', 'dieser', 'dieses', 'doch', 'dort', 'durch', 'ein', 'eine', 'einem', 'einen', 'einer', 'eines', 'einig', 'einige', 'einigem', 'einigen', 'einiger', 'einiges', 'einmal', 'er', 'ihn', 'ihm', 'es', 'etwas', 'euer', 'eure', 'eurem', 'euren', 'eurer', 'eures', 'für', 'gegen', 'gewesen', 'hab', 'habe', 'haben', 'hat', 'hatte', 'hatten', 'hier', 'hin', 'hinter', 'ich', 'mich', 'mir', 'ihr', 'ihre', 'ihrem', 'ihren', 'ihrer', 'ihres', 'euch', 'im', 'in', 'indem', 'ins', 'ist', 'jede', 'jedem', 'jeden', 'jeder', 'jedes', 'jene', 'jenem', 'jenen', 'jener', 'jenes', 'jetzt', 'kann', 'kein', 'keine', 'keinem', 'keinen', 'keiner', 'keines', 'können', 'könnte', 'machen', 'man', 'manche', 'manchem', 'manchen', 'mancher', 'manches', 'mein', 'meine', 'meinem', 'meinen', 'meiner', 'meines', 'mit', 'muss', 'musste', 'nach', 'nicht', 'nichts', 'noch', 'nun', 'nur', 'ob', 'oder', 'ohne', 'sehr', 'sein', 'seine', 'seinem', 'seinen', 'seiner', 'seines', 'selbst', 'sich', 'sie', 'ihnen', 'sind', 'so', 'solche', 'solchem', 'solchen', 'solcher', 'solches', 'soll', 'sollte', 'sondern', 'sonst', 'über', 'um', 'und', 'uns', 'unsere', 'unserem', 'unseren', 'unser', 'unseres', 'unter', 'viel', 'vom', 'von', 'vor', 'während', 'war', 'waren', 'warst', 'was', 'weg', 'weil', 'weiter', 'welche', 'welchem', 'welchen', 'welcher', 'welches', 'wenn', 'werde', 'werden', 'wie', 'wieder', 'will', 'wir', 'wird', 'wirst', 'wo', 'wollen', 'wollte', 'würde', 'würden', 'zu', 'zum', 'zur', 'zwar', 'zwischen']\n"
          ]
        }
      ],
      "source": [
        "print (stopwords.words('german'))"
      ]
    },
    {
      "cell_type": "code",
      "execution_count": null,
      "metadata": {
        "id": "f-vrVZJB87zy"
      },
      "outputs": [],
      "source": [
        "stopWords = set(stopwords.words('english'))"
      ]
    },
    {
      "cell_type": "code",
      "execution_count": null,
      "metadata": {
        "colab": {
          "base_uri": "https://localhost:8080/"
        },
        "id": "1Pw-A0np87zy",
        "outputId": "547e554f-70cf-4d46-e3b7-a4531a5064a1"
      },
      "outputs": [
        {
          "output_type": "stream",
          "name": "stdout",
          "text": [
            "{'through', 'as', 'of', 'during', 'all', 'y', 'been', 'here', 'now', 'be', 'hasn', 'll', 'only', 'both', 'he', 'from', 'doing', 'him', 'm', 'if', 'over', 'with', 'don', 'which', 'didn', 'mightn', 'mustn', 'where', 'hadn', \"don't\", 'this', 'can', 'other', 'nor', 't', 'does', 'weren', 'theirs', 'on', \"mightn't\", \"aren't\", 'under', 'again', 'such', 'no', 'too', 'these', \"you've\", 'having', 'then', 'off', 'are', 'not', 'to', 'i', 'than', 'whom', 'what', \"mustn't\", \"she's\", 'haven', \"wasn't\", 'those', 'more', 'while', 'about', 'between', 'against', 'shan', \"shan't\", 'down', 'her', 'd', \"should've\", \"weren't\", 'until', 'its', 'why', 'most', \"hadn't\", 'was', 'she', 'they', 'shouldn', 'but', 'so', 've', 'them', 'for', 'above', 'o', 'being', 'had', \"you're\", 'an', \"that'll\", 'after', 'herself', 'own', \"needn't\", 'hers', 'further', 'few', \"you'll\", 'just', 'by', 'that', 'there', \"hasn't\", 'me', \"you'd\", 'ours', 'their', 'a', 'itself', 'into', 'couldn', 'when', 'wasn', 'how', 'has', 'once', 'ma', 'at', 'out', 'because', 'himself', 'isn', 'very', 'will', 'should', \"shouldn't\", \"haven't\", 'is', 'you', \"didn't\", \"won't\", 'his', 'up', 'in', 'each', 'have', 'who', 'before', 'my', 'and', 'doesn', 'do', \"couldn't\", \"isn't\", 'same', \"doesn't\", 'our', 'ain', \"it's\", 'or', 'themselves', 'yours', \"wouldn't\", 'any', 'the', 'ourselves', 'yourselves', 'aren', 'needn', 'won', 'we', 'your', 'yourself', 'were', 'did', 'some', 'it', 's', 'am', 'wouldn', 'below', 'myself', 're'}\n"
          ]
        }
      ],
      "source": [
        "print(stopWords)"
      ]
    },
    {
      "cell_type": "code",
      "execution_count": null,
      "metadata": {
        "colab": {
          "base_uri": "https://localhost:8080/"
        },
        "id": "1zrHqKDz87zz",
        "outputId": "31afdc59-ad72-428c-ea26-bb8de2c837d0"
      },
      "outputs": [
        {
          "output_type": "stream",
          "name": "stdout",
          "text": [
            "179\n"
          ]
        }
      ],
      "source": [
        "print(len(stopWords))"
      ]
    },
    {
      "cell_type": "markdown",
      "metadata": {
        "id": "JpvXk8L4CQWi"
      },
      "source": [
        "#### Removing Stop Words"
      ]
    },
    {
      "cell_type": "markdown",
      "metadata": {
        "id": "vZvDFEeUCQWj"
      },
      "source": [
        "Here, we will remove stop words from our text data using the default stopwords corpus present in NLTK."
      ]
    },
    {
      "cell_type": "markdown",
      "metadata": {
        "id": "LRMHPGlfCQWj"
      },
      "source": [
        "#### Get list of English Stopwords"
      ]
    },
    {
      "cell_type": "code",
      "source": [
        "words = word_tokenize(my_text)\n",
        "print (words)\n",
        "words = [w for w in words if w.isalpha()]\n",
        "print(words)"
      ],
      "metadata": {
        "colab": {
          "base_uri": "https://localhost:8080/"
        },
        "id": "ei4Xn2wqY8mw",
        "outputId": "f2218aa5-db10-42be-d8c4-678dacd45c9d"
      },
      "execution_count": null,
      "outputs": [
        {
          "output_type": "stream",
          "name": "stdout",
          "text": [
            "[\"'\", 'I', 'am', 'a', 'Third', 'Year', 'Engineering', 'Student', 'from', 'Vishwakarma', 'Institute', 'of', 'Technology', ',', 'Pune', '.', 'I', 'was', 'born', 'in', 'Kolkata', ',', 'India', '.', 'I', 'am', 'a', 'huge', 'fan', 'of', 'Machine', 'Learning', 'and', 'Artificial', 'Intelligence', '.', 'I', 'have', 'been', 'working', 'towards', 'it', 'from', 'my', 'First', 'Year', 'in', 'College', '.', 'I', 'have', 'completed', 'two', 'internships', 'and', 'am', 'currently', 'working', 'as', 'an', 'Intern', 'in', 'Suvidha', 'Foundations', '.', 'I', 'want', 'to', 'improve', 'myself', 'as', 'a', 'MLOPs', 'and', 'a', 'Data', 'Scientists', '.', 'I', 'know', 'its', 'quite', 'hard', ',', 'but', 'I', 'am', 'confident', 'that', 'I', 'will', 'surely', 'succeed', \"'\"]\n",
            "['I', 'am', 'a', 'Third', 'Year', 'Engineering', 'Student', 'from', 'Vishwakarma', 'Institute', 'of', 'Technology', 'Pune', 'I', 'was', 'born', 'in', 'Kolkata', 'India', 'I', 'am', 'a', 'huge', 'fan', 'of', 'Machine', 'Learning', 'and', 'Artificial', 'Intelligence', 'I', 'have', 'been', 'working', 'towards', 'it', 'from', 'my', 'First', 'Year', 'in', 'College', 'I', 'have', 'completed', 'two', 'internships', 'and', 'am', 'currently', 'working', 'as', 'an', 'Intern', 'in', 'Suvidha', 'Foundations', 'I', 'want', 'to', 'improve', 'myself', 'as', 'a', 'MLOPs', 'and', 'a', 'Data', 'Scientists', 'I', 'know', 'its', 'quite', 'hard', 'but', 'I', 'am', 'confident', 'that', 'I', 'will', 'surely', 'succeed']\n"
          ]
        }
      ]
    },
    {
      "cell_type": "code",
      "execution_count": null,
      "metadata": {
        "id": "FNEPzzTkCQWk"
      },
      "outputs": [],
      "source": [
        "stop_words = stopwords.words('english')"
      ]
    },
    {
      "cell_type": "code",
      "execution_count": null,
      "metadata": {
        "id": "5A4M2zxbCQWk"
      },
      "outputs": [],
      "source": [
        "# creating a copy of the words list\n",
        "words_filtered = words[:] "
      ]
    },
    {
      "cell_type": "code",
      "execution_count": null,
      "metadata": {
        "colab": {
          "base_uri": "https://localhost:8080/"
        },
        "id": "67G-H_3dCQWl",
        "outputId": "8063aa47-2c18-466d-83e3-039af1aa081e"
      },
      "outputs": [
        {
          "output_type": "stream",
          "name": "stdout",
          "text": [
            "['I', 'Third', 'Year', 'Engineering', 'Student', 'Vishwakarma', 'Institute', 'Technology', 'Pune', 'I', 'born', 'Kolkata', 'India', 'I', 'huge', 'fan', 'Machine', 'Learning', 'Artificial', 'Intelligence', 'I', 'working', 'towards', 'First', 'Year', 'College', 'I', 'completed', 'two', 'internships', 'currently', 'working', 'Intern', 'Suvidha', 'Foundations', 'I', 'want', 'improve', 'MLOPs', 'Data', 'Scientists', 'I', 'know', 'quite', 'hard', 'I', 'confident', 'I', 'surely', 'succeed']\n"
          ]
        }
      ],
      "source": [
        "for word in words:\n",
        "    if word in stop_words:        \n",
        "        words_filtered.remove(word)\n",
        "print (words_filtered)"
      ]
    },
    {
      "cell_type": "markdown",
      "metadata": {
        "id": "55CsAtZgCQWm"
      },
      "source": [
        "#### Updating Stop Words Corpus"
      ]
    },
    {
      "cell_type": "markdown",
      "metadata": {
        "id": "wnYxYkW3CQWm"
      },
      "source": [
        "Suppose, you don’t want to omit some stopwords for your text analysis. In such case, you have to remove those words from the stopwords list.\n",
        "\n",
        "Let’s suppose, you want the words over and under for your text analysis. The words “over” and “under” are present in the stopwords corpus by default. Let’s remove them from the stopwords corpus."
      ]
    },
    {
      "cell_type": "code",
      "execution_count": null,
      "metadata": {
        "colab": {
          "base_uri": "https://localhost:8080/"
        },
        "id": "1F-Igj5PCQWm",
        "outputId": "0d1c4ec8-7a51-4966-f356-59ca4a32a7ee"
      },
      "outputs": [
        {
          "output_type": "stream",
          "name": "stdout",
          "text": [
            "{'through', 'as', 'of', 'during', 'all', 'y', 'been', 'here', 'now', 'be', 'hasn', 'll', 'only', 'both', 'he', 'from', 'doing', 'him', 'm', 'if', 'with', 'don', 'which', 'didn', 'mightn', 'mustn', 'where', 'hadn', \"don't\", 'this', 'can', 'other', 'nor', 't', 'does', 'weren', 'theirs', 'on', \"mightn't\", \"aren't\", 'again', 'such', 'no', 'too', 'these', \"you've\", 'having', 'then', 'off', 'are', 'not', 'to', 'i', 'than', 'whom', 'what', \"mustn't\", \"she's\", 'haven', \"wasn't\", 'those', 'more', 'while', 'about', 'between', 'against', 'shan', \"shan't\", 'down', 'her', 'd', \"should've\", \"weren't\", 'until', 'its', 'why', 'most', \"hadn't\", 'was', 'she', 'they', 'shouldn', 'but', 'so', 've', 'them', 'for', 'above', 'o', 'being', 'had', \"you're\", 'an', \"that'll\", 'after', 'herself', 'own', \"needn't\", 'hers', 'further', 'few', \"you'll\", 'just', 'by', 'that', 'there', \"hasn't\", 'me', \"you'd\", 'ours', 'their', 'a', 'itself', 'into', 'couldn', 'when', 'wasn', 'how', 'has', 'once', 'ma', 'at', 'out', 'because', 'himself', 'isn', 'very', 'will', 'should', \"shouldn't\", \"haven't\", 'is', 'you', \"didn't\", \"won't\", 'his', 'up', 'in', 'each', 'have', 'who', 'before', 'my', 'and', 'doesn', 'do', \"couldn't\", \"isn't\", 'same', \"doesn't\", 'our', 'ain', \"it's\", 'or', 'themselves', 'yours', \"wouldn't\", 'any', 'the', 'ourselves', 'yourselves', 'aren', 'needn', 'won', 'we', 'your', 'yourself', 'were', 'did', 'some', 'it', 's', 'am', 'wouldn', 'below', 'myself', 're'}\n"
          ]
        }
      ],
      "source": [
        "# set() function removes duplicate entries from the list\n",
        "stop_words = set(stopwords.words('english')) - set(['over', 'under'])\n",
        " \n",
        "#stopwords_english = [str(item) for item in stop_words]\n",
        "#print (stopwords_english)\n",
        " \n",
        "print (stop_words)"
      ]
    },
    {
      "cell_type": "markdown",
      "source": [
        "#Get started with Stemming"
      ],
      "metadata": {
        "id": "YRoAbQ_XZrSu"
      }
    },
    {
      "cell_type": "code",
      "execution_count": null,
      "metadata": {
        "colab": {
          "base_uri": "https://localhost:8080/"
        },
        "id": "aGghhtTxElkw",
        "outputId": "45e3e2e1-11af-4f95-f354-fee06d79f3e2"
      },
      "outputs": [
        {
          "output_type": "stream",
          "name": "stderr",
          "text": [
            "[nltk_data] Downloading package punkt to /root/nltk_data...\n",
            "[nltk_data]   Package punkt is already up-to-date!\n"
          ]
        },
        {
          "output_type": "execute_result",
          "data": {
            "text/plain": [
              "True"
            ]
          },
          "metadata": {},
          "execution_count": 106
        }
      ],
      "source": [
        "import nltk\n",
        "nltk.download('punkt')"
      ]
    },
    {
      "cell_type": "markdown",
      "metadata": {
        "id": "R74hg89aElky"
      },
      "source": [
        "#### NLTK - stemming\n",
        "Start by defining some words:"
      ]
    },
    {
      "cell_type": "code",
      "execution_count": null,
      "metadata": {
        "id": "5lAd-e2jElk9"
      },
      "outputs": [],
      "source": [
        "words = [\"game\",\"gaming\",\"gamed\",\"games\"]"
      ]
    },
    {
      "cell_type": "code",
      "execution_count": null,
      "metadata": {
        "id": "mJC75kLvElk-"
      },
      "outputs": [],
      "source": [
        "from nltk.stem import PorterStemmer"
      ]
    },
    {
      "cell_type": "code",
      "execution_count": null,
      "metadata": {
        "id": "XBz1CgJgElk-"
      },
      "outputs": [],
      "source": [
        "ps = PorterStemmer()"
      ]
    },
    {
      "cell_type": "code",
      "execution_count": null,
      "metadata": {
        "colab": {
          "base_uri": "https://localhost:8080/"
        },
        "id": "bzZ_ZbJyElk-",
        "outputId": "9c2adcd3-cb95-46c7-e7eb-bac1555a09b9"
      },
      "outputs": [
        {
          "output_type": "stream",
          "name": "stdout",
          "text": [
            "game\n",
            "game\n",
            "game\n",
            "game\n"
          ]
        }
      ],
      "source": [
        "for word in words:\n",
        "    print(ps.stem(word))\n"
      ]
    },
    {
      "cell_type": "markdown",
      "metadata": {
        "id": "Ogj4p-pDEllA"
      },
      "source": [
        "#### Example2"
      ]
    },
    {
      "cell_type": "code",
      "execution_count": null,
      "metadata": {
        "id": "MnFaDVqoEllD"
      },
      "outputs": [],
      "source": [
        "sentence = \"gaming, the gamers play games\""
      ]
    },
    {
      "cell_type": "code",
      "execution_count": null,
      "metadata": {
        "id": "eXG1JjBQEllD"
      },
      "outputs": [],
      "source": [
        "from nltk.tokenize import sent_tokenize, word_tokenize"
      ]
    },
    {
      "cell_type": "code",
      "execution_count": null,
      "metadata": {
        "id": "ZLEAgKKMEllE"
      },
      "outputs": [],
      "source": [
        "words = word_tokenize(sentence)"
      ]
    },
    {
      "cell_type": "code",
      "execution_count": null,
      "metadata": {
        "colab": {
          "base_uri": "https://localhost:8080/"
        },
        "id": "tTd8hks9EllE",
        "outputId": "3b426356-5e5a-418e-8617-f44dcf41bfc2"
      },
      "outputs": [
        {
          "output_type": "stream",
          "name": "stdout",
          "text": [
            "['gaming', ',', 'the', 'gamers', 'play', 'games']\n"
          ]
        }
      ],
      "source": [
        "print(words)"
      ]
    },
    {
      "cell_type": "code",
      "execution_count": null,
      "metadata": {
        "id": "pej2T5_rEllF"
      },
      "outputs": [],
      "source": [
        "from nltk.stem import PorterStemmer"
      ]
    },
    {
      "cell_type": "code",
      "execution_count": null,
      "metadata": {
        "id": "jgK45l9fEllG"
      },
      "outputs": [],
      "source": [
        "ps = PorterStemmer()"
      ]
    },
    {
      "cell_type": "code",
      "execution_count": null,
      "metadata": {
        "colab": {
          "base_uri": "https://localhost:8080/",
          "height": 35
        },
        "id": "vbJP2uvCEllG",
        "outputId": "ecb93c5f-dee7-4137-93a6-dcf2512cba8d"
      },
      "outputs": [
        {
          "output_type": "execute_result",
          "data": {
            "text/plain": [
              "'game'"
            ],
            "application/vnd.google.colaboratory.intrinsic+json": {
              "type": "string"
            }
          },
          "metadata": {},
          "execution_count": 117
        }
      ],
      "source": [
        "ps.stem(word)"
      ]
    },
    {
      "cell_type": "code",
      "execution_count": null,
      "metadata": {
        "colab": {
          "base_uri": "https://localhost:8080/"
        },
        "id": "x6GDLOC1EllH",
        "outputId": "6ecdf05a-7fda-48ea-c9bb-a387119d9abd"
      },
      "outputs": [
        {
          "output_type": "stream",
          "name": "stdout",
          "text": [
            "gaming:game\n",
            ",:,\n",
            "the:the\n",
            "gamers:gamer\n",
            "play:play\n",
            "games:game\n"
          ]
        }
      ],
      "source": [
        "for word in words:\n",
        "    print(word + \":\" + ps.stem(word))"
      ]
    },
    {
      "cell_type": "markdown",
      "metadata": {
        "id": "Ysp_t6H_EllH"
      },
      "source": [
        "#### Stemming with NLTK\n",
        "There are more stemming algorithms, but Porter (PorterStemer) is the most popular."
      ]
    },
    {
      "cell_type": "markdown",
      "metadata": {
        "id": "aaOOt9j9EllH"
      },
      "source": [
        "#### Example3"
      ]
    },
    {
      "cell_type": "code",
      "execution_count": null,
      "metadata": {
        "id": "XLxOrCyYEllI"
      },
      "outputs": [],
      "source": [
        "from nltk.tokenize import word_tokenize\n",
        "from nltk.stem import PorterStemmer"
      ]
    },
    {
      "cell_type": "code",
      "execution_count": null,
      "metadata": {
        "id": "NjjEzEENEllI"
      },
      "outputs": [],
      "source": [
        "text = \"'I am a Third Year Engineering Student from Vishwakarma Institute of Technology, Pune. I was born in Kolkata, India. I am a huge fan of Machine Learning and Artificial Intelligence. I have been working towards it from my First Year in College. I have completed two internships and am currently working as an Intern in Suvidha Foundations. I want to improve myself as a MLOPs and a Data Scientists. I know its quite hard, but I am confident that I will surely succeed'\""
      ]
    },
    {
      "cell_type": "code",
      "execution_count": null,
      "metadata": {
        "id": "VpJdOPnWEllI"
      },
      "outputs": [],
      "source": [
        "text = text.lower()"
      ]
    },
    {
      "cell_type": "code",
      "execution_count": null,
      "metadata": {
        "colab": {
          "base_uri": "https://localhost:8080/"
        },
        "id": "Fb1kCL6rEllI",
        "outputId": "27521160-3533-45c7-8558-0e3016282dd4"
      },
      "outputs": [
        {
          "output_type": "stream",
          "name": "stdout",
          "text": [
            "[\"'\", 'i', 'am', 'a', 'third', 'year', 'engineering', 'student', 'from', 'vishwakarma', 'institute', 'of', 'technology', ',', 'pune', '.', 'i', 'was', 'born', 'in', 'kolkata', ',', 'india', '.', 'i', 'am', 'a', 'huge', 'fan', 'of', 'machine', 'learning', 'and', 'artificial', 'intelligence', '.', 'i', 'have', 'been', 'working', 'towards', 'it', 'from', 'my', 'first', 'year', 'in', 'college', '.', 'i', 'have', 'completed', 'two', 'internships', 'and', 'am', 'currently', 'working', 'as', 'an', 'intern', 'in', 'suvidha', 'foundations', '.', 'i', 'want', 'to', 'improve', 'myself', 'as', 'a', 'mlops', 'and', 'a', 'data', 'scientists', '.', 'i', 'know', 'its', 'quite', 'hard', ',', 'but', 'i', 'am', 'confident', 'that', 'i', 'will', 'surely', 'succeed', \"'\"]\n"
          ]
        }
      ],
      "source": [
        "# tokenize text \n",
        "words = word_tokenize(text)\n",
        " \n",
        "print (words)"
      ]
    },
    {
      "cell_type": "code",
      "execution_count": null,
      "metadata": {
        "id": "s7Sa4nHuEllJ"
      },
      "outputs": [],
      "source": [
        "stemmer = PorterStemmer()\n"
      ]
    },
    {
      "cell_type": "code",
      "execution_count": null,
      "metadata": {
        "id": "Jw7fPjX8EllJ"
      },
      "outputs": [],
      "source": [
        "words_stem = []\n",
        "for word in words:\n",
        "    words_stem.append(stemmer.stem(word))"
      ]
    },
    {
      "cell_type": "code",
      "execution_count": null,
      "metadata": {
        "colab": {
          "base_uri": "https://localhost:8080/"
        },
        "id": "73-uaNRxEllJ",
        "outputId": "90d65fdf-bcdd-4dd7-b230-2c16268b21d0"
      },
      "outputs": [
        {
          "output_type": "stream",
          "name": "stdout",
          "text": [
            "[\"'\", 'i', 'am', 'a', 'third', 'year', 'engin', 'student', 'from', 'vishwakarma', 'institut', 'of', 'technolog', ',', 'pune', '.', 'i', 'wa', 'born', 'in', 'kolkata', ',', 'india', '.', 'i', 'am', 'a', 'huge', 'fan', 'of', 'machin', 'learn', 'and', 'artifici', 'intellig', '.', 'i', 'have', 'been', 'work', 'toward', 'it', 'from', 'my', 'first', 'year', 'in', 'colleg', '.', 'i', 'have', 'complet', 'two', 'internship', 'and', 'am', 'current', 'work', 'as', 'an', 'intern', 'in', 'suvidha', 'foundat', '.', 'i', 'want', 'to', 'improv', 'myself', 'as', 'a', 'mlop', 'and', 'a', 'data', 'scientist', '.', 'i', 'know', 'it', 'quit', 'hard', ',', 'but', 'i', 'am', 'confid', 'that', 'i', 'will', 'sure', 'succeed', \"'\"]\n"
          ]
        }
      ],
      "source": [
        "print(words_stem)"
      ]
    },
    {
      "cell_type": "code",
      "execution_count": null,
      "metadata": {
        "id": "W1dFLmgGEllJ"
      },
      "outputs": [],
      "source": [
        "#  a shorter version of the above code"
      ]
    },
    {
      "cell_type": "code",
      "execution_count": null,
      "metadata": {
        "id": "sCFg2Ak3EllK"
      },
      "outputs": [],
      "source": [
        "words_stem = [stemmer.stem(word) for word in words]"
      ]
    },
    {
      "cell_type": "markdown",
      "metadata": {
        "id": "Sbu6dORCEllK"
      },
      "source": [
        "#### Using split() function"
      ]
    },
    {
      "cell_type": "markdown",
      "metadata": {
        "id": "JyFTpZW0EllK"
      },
      "source": [
        "#### Note: Tokenizing sentences into words is useful as it separates punctuations from the words. In below example, the last word dog will be taken as dog. (with full-stop at the end). The punctuation mark is not separated from the word."
      ]
    },
    {
      "cell_type": "code",
      "execution_count": null,
      "metadata": {
        "id": "_-UMB7CzEllK",
        "outputId": "a8861df3-a505-46ce-b2dd-9bcb2af0b0a7",
        "colab": {
          "base_uri": "https://localhost:8080/"
        }
      },
      "outputs": [
        {
          "output_type": "stream",
          "name": "stdout",
          "text": [
            "a quick brown fox jump over the lazi dog.\n"
          ]
        }
      ],
      "source": [
        "from nltk.stem import PorterStemmer\n",
        "stemmer = PorterStemmer()\n",
        "text = \"A quick brown fox jumps over the lazy dog.\"\n",
        "text_stem = \" \".join([stemmer.stem(word) for word in text.split()])\n",
        "print (text_stem)"
      ]
    },
    {
      "cell_type": "markdown",
      "metadata": {
        "id": "rdGQn2avEllK"
      },
      "source": [
        "#### Stemming Non-English Words"
      ]
    },
    {
      "cell_type": "markdown",
      "metadata": {
        "id": "eh7llkHBEllL"
      },
      "source": [
        "There are other different stemmers like:\n",
        "    \n",
        "* SnowballStemmer, LancasterStemmer, ISRIStemmer, RSLPStemmer, RegexpStemmer."
      ]
    },
    {
      "cell_type": "markdown",
      "metadata": {
        "id": "93OFgQuMEllM"
      },
      "source": [
        "Stemming Spanish Words using SnowballStemmer​\n",
        "\n",
        "Let’s stem some Spanish words.​\n",
        "\n",
        "Here’s the English translation of the Spanish words:"
      ]
    },
    {
      "cell_type": "code",
      "execution_count": null,
      "metadata": {
        "id": "JRODIAbaEllM",
        "outputId": "4d68c943-d596-4b30-ed3b-18cea45bd28a",
        "colab": {
          "base_uri": "https://localhost:8080/"
        }
      },
      "outputs": [
        {
          "output_type": "stream",
          "name": "stdout",
          "text": [
            "trabaj\n",
            "trabaj\n"
          ]
        }
      ],
      "source": [
        "from nltk.stem import SnowballStemmer\n",
        " \n",
        "stemmer_spanish = SnowballStemmer('spanish')\n",
        " \n",
        "print (stemmer_spanish.stem('trabajando')) # output: trabaj\n",
        "print (stemmer_spanish.stem('trabajos')) # output: trabaj\n"
      ]
    },
    {
      "cell_type": "markdown",
      "metadata": {
        "id": "WfE9a6fBEllM"
      },
      "source": [
        "#### Stemming English Words using SnowballStemmer"
      ]
    },
    {
      "cell_type": "code",
      "execution_count": null,
      "metadata": {
        "id": "_wXzVQNeEllN",
        "outputId": "a600adce-8dec-4564-b032-b763b9dabd60",
        "colab": {
          "base_uri": "https://localhost:8080/"
        }
      },
      "outputs": [
        {
          "output_type": "stream",
          "name": "stdout",
          "text": [
            "work\n",
            "work\n",
            "work\n"
          ]
        }
      ],
      "source": [
        "stemmer_english = SnowballStemmer('english')\n",
        "print (stemmer_english.stem('working')) # output: work\n",
        "print (stemmer_english.stem('works')) # output: work\n",
        "print (stemmer_english.stem('worked')) # output: work"
      ]
    },
    {
      "cell_type": "markdown",
      "source": [
        "#POS"
      ],
      "metadata": {
        "id": "K6GTLFj4boLI"
      }
    },
    {
      "cell_type": "markdown",
      "source": [
        "![pos.png](data:image/png;base64,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)"
      ],
      "metadata": {
        "id": "Io1nUr_6e68q"
      }
    },
    {
      "cell_type": "markdown",
      "source": [
        "#### Speech tagging\n",
        "The classes include past tense, present. Using this technique we can quickly derive meaning from a text.Part of Speech (POS) Tagging a sentence in a broader sense refers to the addition of labels of the verb, noun,etc.by the context of the sentence. Generic tagging of POS is manually not possible as some words may have different (ambiguous) meanings according to the structure of the sentence.\n",
        "\n",
        "Conversion of text in the form of list of words is done first. Afterwords the list is traversed and a tag is assigned to individual word."
      ],
      "metadata": {
        "id": "GqhvHhiCcCTu"
      }
    },
    {
      "cell_type": "code",
      "metadata": {
        "id": "HMPz1FMrfFXA",
        "colab": {
          "base_uri": "https://localhost:8080/"
        },
        "outputId": "752a4415-de08-432d-ff91-9561dfb2f66a"
      },
      "source": [
        "import nltk\n",
        "nltk.download('punkt')"
      ],
      "execution_count": null,
      "outputs": [
        {
          "output_type": "stream",
          "name": "stderr",
          "text": [
            "[nltk_data] Downloading package punkt to /root/nltk_data...\n",
            "[nltk_data]   Package punkt is already up-to-date!\n"
          ]
        },
        {
          "output_type": "execute_result",
          "data": {
            "text/plain": [
              "True"
            ]
          },
          "metadata": {},
          "execution_count": 131
        }
      ]
    },
    {
      "cell_type": "code",
      "metadata": {
        "id": "9f9TIJ39fk3K",
        "colab": {
          "base_uri": "https://localhost:8080/"
        },
        "outputId": "2e9c2e6b-f5ac-48bf-9aa7-189d54687de5"
      },
      "source": [
        "nltk.download('averaged_perceptron_tagger')"
      ],
      "execution_count": null,
      "outputs": [
        {
          "output_type": "stream",
          "name": "stderr",
          "text": [
            "[nltk_data] Downloading package averaged_perceptron_tagger to\n",
            "[nltk_data]     /root/nltk_data...\n",
            "[nltk_data]   Package averaged_perceptron_tagger is already up-to-\n",
            "[nltk_data]       date!\n"
          ]
        },
        {
          "output_type": "execute_result",
          "data": {
            "text/plain": [
              "True"
            ]
          },
          "metadata": {},
          "execution_count": 132
        }
      ]
    },
    {
      "cell_type": "code",
      "metadata": {
        "id": "cd8bUXqR1t2_",
        "colab": {
          "base_uri": "https://localhost:8080/"
        },
        "outputId": "54018982-9cf6-4d6c-d845-5144a9433674"
      },
      "source": [
        "nltk.download('maxent_ne_chunker')"
      ],
      "execution_count": null,
      "outputs": [
        {
          "output_type": "stream",
          "name": "stderr",
          "text": [
            "[nltk_data] Downloading package maxent_ne_chunker to\n",
            "[nltk_data]     /root/nltk_data...\n",
            "[nltk_data]   Package maxent_ne_chunker is already up-to-date!\n"
          ]
        },
        {
          "output_type": "execute_result",
          "data": {
            "text/plain": [
              "True"
            ]
          },
          "metadata": {},
          "execution_count": 133
        }
      ]
    },
    {
      "cell_type": "code",
      "metadata": {
        "id": "cWJ7cS4D1-vc",
        "colab": {
          "base_uri": "https://localhost:8080/"
        },
        "outputId": "b0ec7218-3199-427f-e4d7-1ace79f9a0d0"
      },
      "source": [
        "nltk.download('words')"
      ],
      "execution_count": null,
      "outputs": [
        {
          "output_type": "stream",
          "name": "stderr",
          "text": [
            "[nltk_data] Downloading package words to /root/nltk_data...\n",
            "[nltk_data]   Package words is already up-to-date!\n"
          ]
        },
        {
          "output_type": "execute_result",
          "data": {
            "text/plain": [
              "True"
            ]
          },
          "metadata": {},
          "execution_count": 134
        }
      ]
    },
    {
      "cell_type": "markdown",
      "metadata": {
        "id": "jZ0YeBwb3kaF"
      },
      "source": [
        "Given a sentence or paragraph, it can label words such as verbs, nouns and so on."
      ]
    },
    {
      "cell_type": "code",
      "execution_count": null,
      "metadata": {
        "colab": {
          "base_uri": "https://localhost:8080/"
        },
        "id": "j9355P3f3kaG",
        "outputId": "a37b1b20-7b31-474b-d38f-5250d587dcb4"
      },
      "outputs": [
        {
          "output_type": "stream",
          "name": "stderr",
          "text": [
            "[nltk_data] Downloading package punkt to /root/nltk_data...\n",
            "[nltk_data]   Package punkt is already up-to-date!\n",
            "[nltk_data] Downloading package averaged_perceptron_tagger to\n",
            "[nltk_data]     /root/nltk_data...\n",
            "[nltk_data]   Package averaged_perceptron_tagger is already up-to-\n",
            "[nltk_data]       date!\n"
          ]
        },
        {
          "output_type": "execute_result",
          "data": {
            "text/plain": [
              "True"
            ]
          },
          "metadata": {},
          "execution_count": 135
        }
      ],
      "source": [
        "import nltk\n",
        "from nltk.tokenize import PunktSentenceTokenizer\n",
        "import nltk\n",
        "nltk.download('punkt')\n",
        "nltk.download('averaged_perceptron_tagger')"
      ]
    },
    {
      "cell_type": "code",
      "execution_count": null,
      "metadata": {
        "id": "vs2VXGLg3kaH"
      },
      "outputs": [],
      "source": [
        "document = 'Whether you\\'re new to programming or an experienced developer, it\\'s easy to learn and use Python.'"
      ]
    },
    {
      "cell_type": "code",
      "execution_count": null,
      "metadata": {
        "colab": {
          "base_uri": "https://localhost:8080/"
        },
        "id": "Kc1EzWmR3kaI",
        "outputId": "09e7c8e6-a0d5-479f-c7f4-4de394d3e301"
      },
      "outputs": [
        {
          "output_type": "stream",
          "name": "stdout",
          "text": [
            "Whether you're new to programming or an experienced developer, it's easy to learn and use Python.\n"
          ]
        }
      ],
      "source": [
        "print(document)"
      ]
    },
    {
      "cell_type": "code",
      "execution_count": null,
      "metadata": {
        "id": "VrZJuVfT3kaJ"
      },
      "outputs": [],
      "source": [
        "sentences = nltk.sent_tokenize(document)   "
      ]
    },
    {
      "cell_type": "code",
      "execution_count": null,
      "metadata": {
        "colab": {
          "base_uri": "https://localhost:8080/"
        },
        "id": "mjsmdt0B3kaJ",
        "outputId": "25b7ef60-90f6-4787-c664-cb1e75f41f49"
      },
      "outputs": [
        {
          "output_type": "stream",
          "name": "stdout",
          "text": [
            "[\"Whether you're new to programming or an experienced developer, it's easy to learn and use Python.\"]\n"
          ]
        }
      ],
      "source": [
        "print(sentences)"
      ]
    },
    {
      "cell_type": "code",
      "execution_count": null,
      "metadata": {
        "colab": {
          "base_uri": "https://localhost:8080/"
        },
        "id": "F97RwpmM3kaK",
        "outputId": "15c90590-82ba-497b-9bb7-a17daac2bd22"
      },
      "outputs": [
        {
          "output_type": "stream",
          "name": "stdout",
          "text": [
            "[('Whether', 'IN'), ('you', 'PRP'), (\"'re\", 'VBP'), ('new', 'JJ'), ('to', 'TO'), ('programming', 'VBG'), ('or', 'CC'), ('an', 'DT'), ('experienced', 'JJ'), ('developer', 'NN'), (',', ','), ('it', 'PRP'), (\"'s\", 'VBZ'), ('easy', 'JJ'), ('to', 'TO'), ('learn', 'VB'), ('and', 'CC'), ('use', 'VB'), ('Python', 'NNP'), ('.', '.')]\n"
          ]
        }
      ],
      "source": [
        "for sent in sentences:\n",
        "    print(nltk.pos_tag(nltk.word_tokenize(sent)))"
      ]
    },
    {
      "cell_type": "markdown",
      "metadata": {
        "id": "K-QOjTmH3kaL"
      },
      "source": [
        "where the second element of the tuple is the class.\n",
        "The meanings of these speech codes are shown in the table below:"
      ]
    },
    {
      "cell_type": "markdown",
      "metadata": {
        "id": "ucbtcg0U3kaM"
      },
      "source": [
        "#### We can filter this data based on the type of word:"
      ]
    },
    {
      "cell_type": "code",
      "execution_count": null,
      "metadata": {
        "id": "cSPQsRuk3kaN"
      },
      "outputs": [],
      "source": [
        "import nltk\n",
        "from nltk.corpus import state_union\n",
        "from nltk.tokenize import PunktSentenceTokenizer"
      ]
    },
    {
      "cell_type": "code",
      "execution_count": null,
      "metadata": {
        "id": "j15QnHxb3kaN"
      },
      "outputs": [],
      "source": [
        "document = 'Today I celebrate my Birth Day. Thankyou all. I invite all my friends to attend the party.'"
      ]
    },
    {
      "cell_type": "code",
      "execution_count": null,
      "metadata": {
        "colab": {
          "base_uri": "https://localhost:8080/"
        },
        "id": "VOwmgQcF3kaO",
        "outputId": "e5640be9-40f0-4c13-8c7c-baa2ed588e90"
      },
      "outputs": [
        {
          "output_type": "stream",
          "name": "stdout",
          "text": [
            "Today I celebrate my Birth Day. Thankyou all. I invite all my friends to attend the party.\n"
          ]
        }
      ],
      "source": [
        "print(document)"
      ]
    },
    {
      "cell_type": "code",
      "execution_count": null,
      "metadata": {
        "id": "hVRmLDFB3kaO"
      },
      "outputs": [],
      "source": [
        "sentences = nltk.sent_tokenize(document)   "
      ]
    },
    {
      "cell_type": "code",
      "execution_count": null,
      "metadata": {
        "id": "E_YwIqMU3kaO"
      },
      "outputs": [],
      "source": [
        "data = []"
      ]
    },
    {
      "cell_type": "code",
      "execution_count": null,
      "metadata": {
        "id": "vfWwJwKF3kaP"
      },
      "outputs": [],
      "source": [
        "for sent in sentences:\n",
        "    data = data + nltk.pos_tag(nltk.word_tokenize(sent))"
      ]
    },
    {
      "cell_type": "code",
      "execution_count": null,
      "metadata": {
        "colab": {
          "base_uri": "https://localhost:8080/"
        },
        "id": "U3sgmX-L3kaP",
        "outputId": "3b50683e-f365-48b0-d7a6-88c05cdd8d0e"
      },
      "outputs": [
        {
          "output_type": "stream",
          "name": "stdout",
          "text": [
            "('Birth', 'NNP')\n",
            "('Day', 'NNP')\n",
            "('Thankyou', 'NNP')\n"
          ]
        }
      ],
      "source": [
        "for word in data: \n",
        "    if 'NNP' in word[1]: \n",
        "        print(word)"
      ]
    },
    {
      "cell_type": "code",
      "metadata": {
        "id": "s5S3IGmQfp5p",
        "colab": {
          "base_uri": "https://localhost:8080/"
        },
        "outputId": "0bd3e382-a8ba-4a8d-b2a4-0a4b29e1d820"
      },
      "source": [
        "text=[\"A quick brown fox jumps over the lazy dogs.\"]\n",
        "tokens_tag = nltk.pos_tag(text)\n",
        "print(\"After Token:\",tokens_tag)"
      ],
      "execution_count": null,
      "outputs": [
        {
          "output_type": "stream",
          "name": "stdout",
          "text": [
            "After Token: [('A quick brown fox jumps over the lazy dogs.', 'NN')]\n"
          ]
        }
      ]
    },
    {
      "cell_type": "code",
      "metadata": {
        "id": "ZB9u8tf-hSLe",
        "colab": {
          "base_uri": "https://localhost:8080/"
        },
        "outputId": "d640236d-65d6-4b84-dd15-f4f55af1ef9f"
      },
      "source": [
        "text = document\n",
        "tokens = nltk.word_tokenize(text)\n",
        "print(tokens)\n"
      ],
      "execution_count": null,
      "outputs": [
        {
          "output_type": "stream",
          "name": "stdout",
          "text": [
            "['Today', 'I', 'celebrate', 'my', 'Birth', 'Day', '.', 'Thankyou', 'all', '.', 'I', 'invite', 'all', 'my', 'friends', 'to', 'attend', 'the', 'party', '.']\n"
          ]
        }
      ]
    },
    {
      "cell_type": "code",
      "metadata": {
        "id": "vjZfP8gYIztJ",
        "colab": {
          "base_uri": "https://localhost:8080/"
        },
        "outputId": "61d9ede9-557c-4e75-d4ce-c6e7ae78dad2"
      },
      "source": [
        "tag = nltk.pos_tag(tokens)\n",
        "print(tag)\n"
      ],
      "execution_count": null,
      "outputs": [
        {
          "output_type": "stream",
          "name": "stdout",
          "text": [
            "[('Today', 'NN'), ('I', 'PRP'), ('celebrate', 'VBP'), ('my', 'PRP$'), ('Birth', 'NNP'), ('Day', 'NNP'), ('.', '.'), ('Thankyou', 'NNP'), ('all', 'DT'), ('.', '.'), ('I', 'PRP'), ('invite', 'VBP'), ('all', 'DT'), ('my', 'PRP$'), ('friends', 'NNS'), ('to', 'TO'), ('attend', 'VB'), ('the', 'DT'), ('party', 'NN'), ('.', '.')]\n"
          ]
        }
      ]
    },
    {
      "cell_type": "markdown",
      "source": [
        "#Chunking"
      ],
      "metadata": {
        "id": "5oMqZnGvbrFE"
      }
    },
    {
      "cell_type": "markdown",
      "metadata": {
        "id": "CcB99OStSwug"
      },
      "source": [
        "##We need to implement noun phrase chunking to identify named entities using a regular expression consisting of rules that indicate how sentences should be chunked.\n",
        "\n",
        "In this case the chunk pattern consists of one rule - a noun phrase, NP, should be formed whenever the chunker finds an optional determiner, DT, followed by any number of adjectives, JJ, and then a noun, NN."
      ]
    },
    {
      "cell_type": "code",
      "metadata": {
        "id": "dwVoTB2wPaPY",
        "colab": {
          "base_uri": "https://localhost:8080/"
        },
        "outputId": "f362adec-9f24-451e-f455-4432d80a1e9d"
      },
      "source": [
        "grammar = \"NP: {<DT>?<JJ>*<NN>}\"\n",
        "cp  =nltk.RegexpParser(grammar)\n",
        "\n",
        "\n",
        "\n",
        "text = \"Jack and Jill went up the hill, to fetch a mug of water.\"\n",
        "\n",
        "# Tokenize words\n",
        "tokens = nltk.word_tokenize(text)\n",
        "print(tokens)\n",
        "\n",
        "# POS tag the words\n",
        "tag = nltk.pos_tag(tokens)\n",
        "print(tag)\n",
        "\n",
        "# Chunking\n",
        "result = cp.parse(tag)\n",
        "print(\"------\")\n",
        "\n",
        "print(result)\n"
      ],
      "execution_count": null,
      "outputs": [
        {
          "output_type": "stream",
          "name": "stdout",
          "text": [
            "['Jack', 'and', 'Jill', 'went', 'up', 'the', 'hill', ',', 'to', 'fetch', 'a', 'mug', 'of', 'water', '.']\n",
            "[('Jack', 'NNP'), ('and', 'CC'), ('Jill', 'NNP'), ('went', 'VBD'), ('up', 'RP'), ('the', 'DT'), ('hill', 'NN'), (',', ','), ('to', 'TO'), ('fetch', 'VB'), ('a', 'DT'), ('mug', 'NN'), ('of', 'IN'), ('water', 'NN'), ('.', '.')]\n",
            "------\n",
            "(S\n",
            "  Jack/NNP\n",
            "  and/CC\n",
            "  Jill/NNP\n",
            "  went/VBD\n",
            "  up/RP\n",
            "  (NP the/DT hill/NN)\n",
            "  ,/,\n",
            "  to/TO\n",
            "  fetch/VB\n",
            "  (NP a/DT mug/NN)\n",
            "  of/IN\n",
            "  (NP water/NN)\n",
            "  ./.)\n"
          ]
        }
      ]
    },
    {
      "cell_type": "markdown",
      "metadata": {
        "id": "dhV_t23FLUAP"
      },
      "source": [
        "### Another Example"
      ]
    },
    {
      "cell_type": "code",
      "metadata": {
        "id": "EYcbgmVcS3V9"
      },
      "source": [
        "sentence = \"\"\"Alice and Bob went to America to see the President at Washington D.C\"\"\"\n"
      ],
      "execution_count": null,
      "outputs": []
    },
    {
      "cell_type": "code",
      "metadata": {
        "id": "qtiZ65FvoASh",
        "colab": {
          "base_uri": "https://localhost:8080/"
        },
        "outputId": "fdf9db90-3d8d-4285-d852-42a70492beb8"
      },
      "source": [
        "tokens = nltk.word_tokenize(sentence)\n",
        "print(tokens)"
      ],
      "execution_count": null,
      "outputs": [
        {
          "output_type": "stream",
          "name": "stdout",
          "text": [
            "['Alice', 'and', 'Bob', 'went', 'to', 'America', 'to', 'see', 'the', 'President', 'at', 'Washington', 'D.C']\n"
          ]
        }
      ]
    },
    {
      "cell_type": "code",
      "metadata": {
        "id": "tTo5uIEtoCvI",
        "colab": {
          "base_uri": "https://localhost:8080/"
        },
        "outputId": "f840879d-82cb-44ad-e0a7-f5a77268d860"
      },
      "source": [
        "tagged = nltk.pos_tag(tokens)\n",
        "print(tagged)"
      ],
      "execution_count": null,
      "outputs": [
        {
          "output_type": "stream",
          "name": "stdout",
          "text": [
            "[('Alice', 'NNP'), ('and', 'CC'), ('Bob', 'NNP'), ('went', 'VBD'), ('to', 'TO'), ('America', 'NNP'), ('to', 'TO'), ('see', 'VB'), ('the', 'DT'), ('President', 'NNP'), ('at', 'IN'), ('Washington', 'NNP'), ('D.C', 'NNP')]\n"
          ]
        }
      ]
    },
    {
      "cell_type": "code",
      "metadata": {
        "id": "1nw7JoM51RXF",
        "colab": {
          "base_uri": "https://localhost:8080/"
        },
        "outputId": "8fc616f7-37f2-4174-a47a-538a97e38634"
      },
      "source": [
        "tagged = nltk.pos_tag(tokens)\n",
        "print(tagged)"
      ],
      "execution_count": null,
      "outputs": [
        {
          "output_type": "stream",
          "name": "stdout",
          "text": [
            "[('Alice', 'NNP'), ('and', 'CC'), ('Bob', 'NNP'), ('went', 'VBD'), ('to', 'TO'), ('America', 'NNP'), ('to', 'TO'), ('see', 'VB'), ('the', 'DT'), ('President', 'NNP'), ('at', 'IN'), ('Washington', 'NNP'), ('D.C', 'NNP')]\n"
          ]
        }
      ]
    },
    {
      "cell_type": "code",
      "metadata": {
        "id": "PIH744d_oElG",
        "colab": {
          "base_uri": "https://localhost:8080/"
        },
        "outputId": "bbf2a5d9-dafa-4668-f084-1845133a4161"
      },
      "source": [
        "entities = nltk.chunk.ne_chunk(tagged)\n",
        "print(entities)"
      ],
      "execution_count": null,
      "outputs": [
        {
          "output_type": "stream",
          "name": "stdout",
          "text": [
            "(S\n",
            "  Alice/NNP\n",
            "  and/CC\n",
            "  (PERSON Bob/NNP)\n",
            "  went/VBD\n",
            "  to/TO\n",
            "  (GPE America/NNP)\n",
            "  to/TO\n",
            "  see/VB\n",
            "  the/DT\n",
            "  President/NNP\n",
            "  at/IN\n",
            "  (ORGANIZATION Washington/NNP)\n",
            "  D.C/NNP)\n"
          ]
        }
      ]
    },
    {
      "cell_type": "markdown",
      "metadata": {
        "id": "emAPB0ua1ZA_"
      },
      "source": [
        "### Another Example"
      ]
    },
    {
      "cell_type": "code",
      "metadata": {
        "id": "ty43rRHU1Cwd"
      },
      "source": [
        "text = \"'I am a Third Year Engineering Student from Vishwakarma Institute of Technology, Pune. I was born in Kolkata, India. I am a huge fan of Machine Learning and Artificial Intelligence. I have been working towards it from my First Year in College. I have completed two internships and am currently working as an Intern in Suvidha Foundations. I want to improve myself as a MLOPs and a Data Scientists. I know its quite hard, but I am confident that I will surely succeed'\""
      ],
      "execution_count": null,
      "outputs": []
    },
    {
      "cell_type": "code",
      "metadata": {
        "id": "NIWi7v3h1M3a",
        "colab": {
          "base_uri": "https://localhost:8080/"
        },
        "outputId": "39018700-8906-4581-8c6c-8ccb90ac5197"
      },
      "source": [
        "tokens = nltk.word_tokenize(text)\n",
        "print(tokens)"
      ],
      "execution_count": null,
      "outputs": [
        {
          "output_type": "stream",
          "name": "stdout",
          "text": [
            "[\"'\", 'I', 'am', 'a', 'Third', 'Year', 'Engineering', 'Student', 'from', 'Vishwakarma', 'Institute', 'of', 'Technology', ',', 'Pune', '.', 'I', 'was', 'born', 'in', 'Kolkata', ',', 'India', '.', 'I', 'am', 'a', 'huge', 'fan', 'of', 'Machine', 'Learning', 'and', 'Artificial', 'Intelligence', '.', 'I', 'have', 'been', 'working', 'towards', 'it', 'from', 'my', 'First', 'Year', 'in', 'College', '.', 'I', 'have', 'completed', 'two', 'internships', 'and', 'am', 'currently', 'working', 'as', 'an', 'Intern', 'in', 'Suvidha', 'Foundations', '.', 'I', 'want', 'to', 'improve', 'myself', 'as', 'a', 'MLOPs', 'and', 'a', 'Data', 'Scientists', '.', 'I', 'know', 'its', 'quite', 'hard', ',', 'but', 'I', 'am', 'confident', 'that', 'I', 'will', 'surely', 'succeed', \"'\"]\n"
          ]
        }
      ]
    },
    {
      "cell_type": "code",
      "metadata": {
        "id": "mOp1km3z1SiV",
        "colab": {
          "base_uri": "https://localhost:8080/"
        },
        "outputId": "edb4ede6-4c53-45fd-8f0a-6ca18b18811f"
      },
      "source": [
        "tagged = nltk.pos_tag(tokens)\n",
        "print(tagged)"
      ],
      "execution_count": null,
      "outputs": [
        {
          "output_type": "stream",
          "name": "stdout",
          "text": [
            "[(\"'\", 'POS'), ('I', 'PRP'), ('am', 'VBP'), ('a', 'DT'), ('Third', 'JJ'), ('Year', 'NNP'), ('Engineering', 'NNP'), ('Student', 'NN'), ('from', 'IN'), ('Vishwakarma', 'NNP'), ('Institute', 'NNP'), ('of', 'IN'), ('Technology', 'NNP'), (',', ','), ('Pune', 'NNP'), ('.', '.'), ('I', 'PRP'), ('was', 'VBD'), ('born', 'VBN'), ('in', 'IN'), ('Kolkata', 'NNP'), (',', ','), ('India', 'NNP'), ('.', '.'), ('I', 'PRP'), ('am', 'VBP'), ('a', 'DT'), ('huge', 'JJ'), ('fan', 'NN'), ('of', 'IN'), ('Machine', 'NNP'), ('Learning', 'NNP'), ('and', 'CC'), ('Artificial', 'NNP'), ('Intelligence', 'NNP'), ('.', '.'), ('I', 'PRP'), ('have', 'VBP'), ('been', 'VBN'), ('working', 'VBG'), ('towards', 'NNS'), ('it', 'PRP'), ('from', 'IN'), ('my', 'PRP$'), ('First', 'JJ'), ('Year', 'NN'), ('in', 'IN'), ('College', 'NNP'), ('.', '.'), ('I', 'PRP'), ('have', 'VBP'), ('completed', 'VBN'), ('two', 'CD'), ('internships', 'NNS'), ('and', 'CC'), ('am', 'VBP'), ('currently', 'RB'), ('working', 'VBG'), ('as', 'IN'), ('an', 'DT'), ('Intern', 'NNP'), ('in', 'IN'), ('Suvidha', 'NNP'), ('Foundations', 'NNP'), ('.', '.'), ('I', 'PRP'), ('want', 'VBP'), ('to', 'TO'), ('improve', 'VB'), ('myself', 'PRP'), ('as', 'IN'), ('a', 'DT'), ('MLOPs', 'NNP'), ('and', 'CC'), ('a', 'DT'), ('Data', 'NNP'), ('Scientists', 'NNP'), ('.', '.'), ('I', 'PRP'), ('know', 'VBP'), ('its', 'PRP$'), ('quite', 'RB'), ('hard', 'JJ'), (',', ','), ('but', 'CC'), ('I', 'PRP'), ('am', 'VBP'), ('confident', 'JJ'), ('that', 'IN'), ('I', 'PRP'), ('will', 'MD'), ('surely', 'RB'), ('succeed', 'VB'), (\"'\", \"''\")]\n"
          ]
        }
      ]
    },
    {
      "cell_type": "code",
      "metadata": {
        "id": "xU_WTA_I1VlD",
        "colab": {
          "base_uri": "https://localhost:8080/"
        },
        "outputId": "84f70c83-bf94-418c-8875-4c5119c16682"
      },
      "source": [
        "entities = nltk.chunk.ne_chunk(tagged)\n",
        "print(entities)"
      ],
      "execution_count": null,
      "outputs": [
        {
          "output_type": "stream",
          "name": "stdout",
          "text": [
            "(S\n",
            "  '/POS\n",
            "  I/PRP\n",
            "  am/VBP\n",
            "  a/DT\n",
            "  Third/JJ\n",
            "  Year/NNP\n",
            "  Engineering/NNP\n",
            "  Student/NN\n",
            "  from/IN\n",
            "  (ORGANIZATION Vishwakarma/NNP Institute/NNP)\n",
            "  of/IN\n",
            "  (GPE Technology/NNP)\n",
            "  ,/,\n",
            "  (PERSON Pune/NNP)\n",
            "  ./.\n",
            "  I/PRP\n",
            "  was/VBD\n",
            "  born/VBN\n",
            "  in/IN\n",
            "  (GPE Kolkata/NNP)\n",
            "  ,/,\n",
            "  (GPE India/NNP)\n",
            "  ./.\n",
            "  I/PRP\n",
            "  am/VBP\n",
            "  a/DT\n",
            "  huge/JJ\n",
            "  fan/NN\n",
            "  of/IN\n",
            "  (PERSON Machine/NNP Learning/NNP)\n",
            "  and/CC\n",
            "  (ORGANIZATION Artificial/NNP Intelligence/NNP)\n",
            "  ./.\n",
            "  I/PRP\n",
            "  have/VBP\n",
            "  been/VBN\n",
            "  working/VBG\n",
            "  towards/NNS\n",
            "  it/PRP\n",
            "  from/IN\n",
            "  my/PRP$\n",
            "  First/JJ\n",
            "  Year/NN\n",
            "  in/IN\n",
            "  (GPE College/NNP)\n",
            "  ./.\n",
            "  I/PRP\n",
            "  have/VBP\n",
            "  completed/VBN\n",
            "  two/CD\n",
            "  internships/NNS\n",
            "  and/CC\n",
            "  am/VBP\n",
            "  currently/RB\n",
            "  working/VBG\n",
            "  as/IN\n",
            "  an/DT\n",
            "  Intern/NNP\n",
            "  in/IN\n",
            "  (GPE Suvidha/NNP)\n",
            "  Foundations/NNP\n",
            "  ./.\n",
            "  I/PRP\n",
            "  want/VBP\n",
            "  to/TO\n",
            "  improve/VB\n",
            "  myself/PRP\n",
            "  as/IN\n",
            "  a/DT\n",
            "  (ORGANIZATION MLOPs/NNP)\n",
            "  and/CC\n",
            "  a/DT\n",
            "  (ORGANIZATION Data/NNP Scientists/NNP)\n",
            "  ./.\n",
            "  I/PRP\n",
            "  know/VBP\n",
            "  its/PRP$\n",
            "  quite/RB\n",
            "  hard/JJ\n",
            "  ,/,\n",
            "  but/CC\n",
            "  I/PRP\n",
            "  am/VBP\n",
            "  confident/JJ\n",
            "  that/IN\n",
            "  I/PRP\n",
            "  will/MD\n",
            "  surely/RB\n",
            "  succeed/VB\n",
            "  '/'')\n"
          ]
        }
      ]
    },
    {
      "cell_type": "markdown",
      "source": [
        "#Chinking"
      ],
      "metadata": {
        "id": "oAA4sXIrbuum"
      }
    },
    {
      "cell_type": "markdown",
      "source": [
        "####The act of \"chinking\" is simply the separation of the \"chink\" from the \"chunk.\" These patterns are regular expressions that have been altered and tailored to match Part-of-Speech (POS) tags and their sequences.\n",
        "\n",
        "The syntax is quite similar; the only difference is that the chink}{ following the chunk must be indicated with {} rather than."
      ],
      "metadata": {
        "id": "Llok50EMjAtD"
      }
    },
    {
      "cell_type": "code",
      "source": [
        "from nltk.chunk.regexp import tag_pattern2re_pattern\n",
        "\n"
      ],
      "metadata": {
        "id": "YgOSI3c8hBkL"
      },
      "execution_count": null,
      "outputs": []
    },
    {
      "cell_type": "code",
      "source": [],
      "metadata": {
        "id": "24HmE-Skjini"
      },
      "execution_count": null,
      "outputs": []
    }
  ]
}